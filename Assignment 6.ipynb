{
 "cells": [
  {
   "cell_type": "code",
   "execution_count": null,
   "id": "3602b883",
   "metadata": {},
   "outputs": [],
   "source": [
    "Q1.write a function which will try to find out len of a string without using inbulid len function."
   ]
  },
  {
   "cell_type": "code",
   "execution_count": 4,
   "id": "ef13bb08",
   "metadata": {},
   "outputs": [],
   "source": [
    "a=\"hello my name is deepak kumar\""
   ]
  },
  {
   "cell_type": "code",
   "execution_count": 2,
   "id": "077b51c0",
   "metadata": {},
   "outputs": [],
   "source": [
    "def test(l):\n",
    "    sum=0\n",
    "    for i in l:\n",
    "        if type(i)==str:\n",
    "            sum=sum+1\n",
    "    return sum\n"
   ]
  },
  {
   "cell_type": "code",
   "execution_count": 5,
   "id": "61fff0ef",
   "metadata": {},
   "outputs": [
    {
     "data": {
      "text/plain": [
       "32"
      ]
     },
     "execution_count": 5,
     "metadata": {},
     "output_type": "execute_result"
    }
   ],
   "source": [
    "test(a)"
   ]
  },
  {
   "cell_type": "code",
   "execution_count": null,
   "id": "82154ec3",
   "metadata": {},
   "outputs": [],
   "source": [
    "Q2.write a function which will be able to print an index of list element without using an index function."
   ]
  },
  {
   "cell_type": "code",
   "execution_count": 23,
   "id": "bd085d2c",
   "metadata": {},
   "outputs": [],
   "source": [
    "def test1(l):\n",
    "    for i in range(0,len(l)):\n",
    "        print(f\"index of {l[i]} is  {i} \")\n",
    "    return \"List ended\""
   ]
  },
  {
   "cell_type": "code",
   "execution_count": 24,
   "id": "926f6fa2",
   "metadata": {},
   "outputs": [
    {
     "name": "stdout",
     "output_type": "stream",
     "text": [
      "index of H is  0 \n",
      "index of e is  1 \n",
      "index of l is  2 \n",
      "index of l is  3 \n",
      "index of o is  4 \n",
      "index of   is  5 \n",
      "index of E is  6 \n",
      "index of v is  7 \n",
      "index of e is  8 \n",
      "index of r is  9 \n",
      "index of y is  10 \n",
      "index of o is  11 \n",
      "index of n is  12 \n",
      "index of e is  13 \n",
      "index of   is  14 \n",
      "index of m is  15 \n",
      "index of y is  16 \n",
      "index of   is  17 \n",
      "index of n is  18 \n",
      "index of a is  19 \n",
      "index of m is  20 \n",
      "index of e is  21 \n",
      "index of   is  22 \n",
      "index of i is  23 \n",
      "index of s is  24 \n",
      "index of   is  25 \n",
      "index of d is  26 \n",
      "index of e is  27 \n",
      "index of e is  28 \n",
      "index of p is  29 \n",
      "index of a is  30 \n",
      "index of k is  31 \n",
      "index of   is  32 \n",
      "index of k is  33 \n",
      "index of u is  34 \n",
      "index of m is  35 \n",
      "index of a is  36 \n",
      "index of r is  37 \n"
     ]
    },
    {
     "data": {
      "text/plain": [
       "'Lit ended'"
      ]
     },
     "execution_count": 24,
     "metadata": {},
     "output_type": "execute_result"
    }
   ],
   "source": [
    "test1(a)"
   ]
  },
  {
   "cell_type": "code",
   "execution_count": null,
   "id": "27d90be0",
   "metadata": {},
   "outputs": [],
   "source": [
    "Q3.write a function which will be able ton print an ip address of your system."
   ]
  },
  {
   "cell_type": "code",
   "execution_count": 20,
   "id": "9b8e9a6b",
   "metadata": {},
   "outputs": [],
   "source": [
    "import socket\n",
    "def print_ip():\n",
    "    ip_address = socket.gethostbyname(socket.gethostname())\n",
    "    print(\"IP Address: \" + ip_address)"
   ]
  },
  {
   "cell_type": "code",
   "execution_count": 22,
   "id": "b25d3a4a",
   "metadata": {},
   "outputs": [
    {
     "name": "stdout",
     "output_type": "stream",
     "text": [
      "IP Address: 192.168.251.1\n"
     ]
    }
   ],
   "source": [
    "print_ip()"
   ]
  },
  {
   "cell_type": "code",
   "execution_count": null,
   "id": "6cab355d",
   "metadata": {},
   "outputs": [],
   "source": [
    "Q4.write a function which will be able shutdown your system."
   ]
  },
  {
   "cell_type": "code",
   "execution_count": 17,
   "id": "461cb453",
   "metadata": {},
   "outputs": [
    {
     "name": "stdout",
     "output_type": "stream",
     "text": [
      "Enter S for shutdown g\n",
      "wrong input\n"
     ]
    }
   ],
   "source": [
    "import os\n",
    "import platform\n",
    "def shutdown():\n",
    "    if platform.system()==\"windows\":\n",
    "        os.system(\"shutdown -s\")\n",
    "    else:\n",
    "        print(\"os is not supported\")\n",
    "command=input(\"Enter S for shutdown \")\n",
    "if command==\"s\" and command==\"S\":\n",
    "    shutdown ()\n",
    "else:\n",
    "    print(\"wrong input\")\n"
   ]
  },
  {
   "cell_type": "code",
   "execution_count": null,
   "id": "cbc03a2f",
   "metadata": {},
   "outputs": [],
   "source": [
    "Q5.write a function which will take input as a list with any kind of numeric value and give an out as a mulitiplication \n",
    "of all the numeric data l =[3.5,6.56,4,5,\"sudh\",\"ineuron\",\"fsda bootcamp 2.o\"]."
   ]
  },
  {
   "cell_type": "code",
   "execution_count": 27,
   "id": "01ad906f",
   "metadata": {},
   "outputs": [],
   "source": [
    "l =[3.5,6.56,4,5,\"sudh\",\"ineuron\",\"fsda bootcamp 2.o\"]"
   ]
  },
  {
   "cell_type": "code",
   "execution_count": 28,
   "id": "7472dc56",
   "metadata": {},
   "outputs": [],
   "source": [
    "def multiply(l):\n",
    "    total = 1\n",
    "    for i in l:\n",
    "        if isinstance(i, (int, float)):\n",
    "            total = total * i\n",
    "    return total"
   ]
  },
  {
   "cell_type": "code",
   "execution_count": 29,
   "id": "f6f04df6",
   "metadata": {},
   "outputs": [
    {
     "data": {
      "text/plain": [
       "459.19999999999993"
      ]
     },
     "execution_count": 29,
     "metadata": {},
     "output_type": "execute_result"
    }
   ],
   "source": [
    "multiply(l)"
   ]
  },
  {
   "cell_type": "code",
   "execution_count": null,
   "id": "86de334a",
   "metadata": {},
   "outputs": [],
   "source": [
    "Q6.write a function which will be able to read all the mails."
   ]
  },
  {
   "cell_type": "code",
   "execution_count": null,
   "id": "2eec7a3f",
   "metadata": {},
   "outputs": [],
   "source": [
    "Q7.write a function which will be able to send a mail to anyone."
   ]
  },
  {
   "cell_type": "code",
   "execution_count": null,
   "id": "b6cf6fbe",
   "metadata": {},
   "outputs": [],
   "source": []
  },
  {
   "cell_type": "code",
   "execution_count": null,
   "id": "ba05658b",
   "metadata": {},
   "outputs": [],
   "source": [
    "Q8.write a function which will be able to read a doc/word file from your system."
   ]
  },
  {
   "cell_type": "code",
   "execution_count": null,
   "id": "097f8319",
   "metadata": {},
   "outputs": [],
   "source": []
  }
 ],
 "metadata": {
  "kernelspec": {
   "display_name": "Python 3 (ipykernel)",
   "language": "python",
   "name": "python3"
  },
  "language_info": {
   "codemirror_mode": {
    "name": "ipython",
    "version": 3
   },
   "file_extension": ".py",
   "mimetype": "text/x-python",
   "name": "python",
   "nbconvert_exporter": "python",
   "pygments_lexer": "ipython3",
   "version": "3.9.12"
  }
 },
 "nbformat": 4,
 "nbformat_minor": 5
}
